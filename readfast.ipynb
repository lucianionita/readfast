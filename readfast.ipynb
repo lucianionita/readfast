{
 "cells": [
  {
   "cell_type": "code",
   "execution_count": 15,
   "metadata": {},
   "outputs": [],
   "source": [
    "import gensim\n",
    "import corenlp\n",
    "import spacy\n"
   ]
  },
  {
   "cell_type": "code",
   "execution_count": 16,
   "metadata": {},
   "outputs": [],
   "source": [
    "parser = spacy.load('en')"
   ]
  },
  {
   "cell_type": "code",
   "execution_count": 17,
   "metadata": {},
   "outputs": [
    {
     "ename": "FileNotFoundError",
     "evalue": "[Errno 2] No such file or directory: 'article.txt'",
     "output_type": "error",
     "traceback": [
      "\u001b[0;31m---------------------------------------------------------------------------\u001b[0m",
      "\u001b[0;31mFileNotFoundError\u001b[0m                         Traceback (most recent call last)",
      "\u001b[0;32m<ipython-input-17-71253a797313>\u001b[0m in \u001b[0;36m<module>\u001b[0;34m()\u001b[0m\n\u001b[0;32m----> 1\u001b[0;31m \u001b[0mtext\u001b[0m \u001b[0;34m=\u001b[0m \u001b[0mopen\u001b[0m\u001b[0;34m(\u001b[0m\u001b[0;34m'article.txt'\u001b[0m\u001b[0;34m)\u001b[0m\u001b[0;34m.\u001b[0m\u001b[0mread\u001b[0m\u001b[0;34m(\u001b[0m\u001b[0;34m)\u001b[0m\u001b[0;34m\u001b[0m\u001b[0m\n\u001b[0m\u001b[1;32m      2\u001b[0m \u001b[0mchunks\u001b[0m  \u001b[0;34m=\u001b[0m \u001b[0mtext\u001b[0m\u001b[0;34m.\u001b[0m\u001b[0msplit\u001b[0m\u001b[0;34m(\u001b[0m\u001b[0;34m'\\n\\n'\u001b[0m\u001b[0;34m)\u001b[0m\u001b[0;34m\u001b[0m\u001b[0m\n",
      "\u001b[0;31mFileNotFoundError\u001b[0m: [Errno 2] No such file or directory: 'article.txt'"
     ]
    }
   ],
   "source": [
    "text = open('article.txt').read()\n",
    "chunks  = text.split('\\n\\n')"
   ]
  },
  {
   "cell_type": "code",
   "execution_count": 18,
   "metadata": {},
   "outputs": [],
   "source": [
    "def serious_analysis(text, parser):\n",
    "    doc = parser(text)\n",
    "    for token in doc:\n",
    "        print (token, token.pos_, token.head, token.dep_, '(',token.ent_type,')', token.lemma_, token.sentiment)\n",
    "\n"
   ]
  },
  {
   "cell_type": "code",
   "execution_count": 19,
   "metadata": {},
   "outputs": [],
   "source": [
    "from IPython.core.display import HTML\n",
    "\n",
    "def highlight_chunk(text, parser):\n",
    "    doc = parser(text)\n",
    "\n",
    "    from IPython.core.display import HTML\n",
    "    s = \"\"\n",
    "    #word_wrap = '<style>p {width: 420px; white-space: break-word; overflow: hidden; text-overflow: ellipsis; } </style> <p id=\\\"formatted_text\\\">'\n",
    "    #s+= word_wrap\n",
    "\n",
    "    for token in doc:\n",
    "        \n",
    "        token_string = token.text_with_ws\n",
    "        \n",
    "        if token.dep_ in ['ROOT']:\n",
    "            t='<font color=\"#ff0000\">' +token_string + '</font>'\n",
    "        elif token.dep_ in ['nsubj','nsubjpass', 'csubj']:\n",
    "            t='<font color=\"#0000ff\">' +token_string + '</font>'\n",
    "        elif token.dep_ in ['compound', 'advmod'] and token.head.dep_ in ['nsubj']:\n",
    "            t='<font color=\"#2255dd\">' +token_string + '</font>'\n",
    "        elif token.dep_ in ['pobj', 'dobj']:\n",
    "            t='<font color=\"#33aa11\">' +token_string + '</font>'\n",
    "        elif token.pos_ in ['VERB', 'ADVMOD'] or token.dep_ in ['neg', 'prt']:\n",
    "            t='<font color=\"#ff0000\">' +token_string + '</font>'\n",
    "            \"\"\"\n",
    "            elif token.dep_ in ['dobj'] or token.pos_ in []:\n",
    "                s+='<font color=\"#0000ff\">' +token.text_with_ws + '</font>'\n",
    "            elif token.dep_ in [] or token.pos_ in ['ADV']:\n",
    "                s+='<font color=\"#ff0077\">' +token.text_with_ws + '</font>'\n",
    "            elif token.dep_ in [] or token.pos_ in ['ADJ']:\n",
    "                s+='<font color=\"#00ffff\">' +token.text_with_ws + '</font>'\n",
    "            \"\"\"\n",
    "        else:\n",
    "            t = '<font color=\"#444444\">' +token_string + '</font>'\n",
    "\n",
    "        s +=t\n",
    "    s=s.replace('\\\\n','<br>')\n",
    "    #s+='</p>'\n",
    "    #HTML(s+\"<br><br><br>\")\n",
    "    return s\n",
    "    \n",
    "def format_chunk(text):\n",
    "    doc = parser(text)\n",
    "\n",
    "    from IPython.core.display import HTML\n",
    "    s = \"\"\n",
    "    word_wrap = '<style>p {width: 420px; white-space: break-word; overflow: hidden; text-overflow: ellipsis; } </style> <p>'\n",
    "    s+= word_wrap\n",
    "    \n",
    "    s+=text\n",
    "    \n",
    "    s=s.replace('\\\\n','<br>')\n",
    "    s+='</p>'\n",
    "    #HTML(s+\"<br><br><br>\")\n",
    "    return s"
   ]
  },
  {
   "cell_type": "code",
   "execution_count": 20,
   "metadata": {},
   "outputs": [],
   "source": [
    "idx = 0"
   ]
  },
  {
   "cell_type": "code",
   "execution_count": 21,
   "metadata": {},
   "outputs": [],
   "source": [
    "idx = idx + 1"
   ]
  },
  {
   "cell_type": "code",
   "execution_count": 22,
   "metadata": {},
   "outputs": [
    {
     "ename": "NameError",
     "evalue": "name 'chunks' is not defined",
     "output_type": "error",
     "traceback": [
      "\u001b[0;31m---------------------------------------------------------------------------\u001b[0m",
      "\u001b[0;31mNameError\u001b[0m                                 Traceback (most recent call last)",
      "\u001b[0;32m<ipython-input-22-42ecf89824fa>\u001b[0m in \u001b[0;36m<module>\u001b[0;34m()\u001b[0m\n\u001b[0;32m----> 1\u001b[0;31m \u001b[0mHTML\u001b[0m\u001b[0;34m(\u001b[0m\u001b[0;34m\"<style>p {width: 420px; white-space: break-word; overflow: hidden; text-overflow: ellipsis; } </style> <p>'\"\u001b[0m\u001b[0;34m+\u001b[0m\u001b[0mchunks\u001b[0m\u001b[0;34m[\u001b[0m\u001b[0midx\u001b[0m\u001b[0;34m]\u001b[0m\u001b[0;34m)\u001b[0m\u001b[0;34m\u001b[0m\u001b[0m\n\u001b[0m",
      "\u001b[0;31mNameError\u001b[0m: name 'chunks' is not defined"
     ]
    }
   ],
   "source": [
    "HTML(\"<style>p {width: 420px; white-space: break-word; overflow: hidden; text-overflow: ellipsis; } </style> <p>'\"+chunks[idx])"
   ]
  },
  {
   "cell_type": "code",
   "execution_count": 23,
   "metadata": {},
   "outputs": [
    {
     "ename": "NameError",
     "evalue": "name 'chunks' is not defined",
     "output_type": "error",
     "traceback": [
      "\u001b[0;31m---------------------------------------------------------------------------\u001b[0m",
      "\u001b[0;31mNameError\u001b[0m                                 Traceback (most recent call last)",
      "\u001b[0;32m<ipython-input-23-d2b06d52761b>\u001b[0m in \u001b[0;36m<module>\u001b[0;34m()\u001b[0m\n\u001b[0;32m----> 1\u001b[0;31m \u001b[0mHTML\u001b[0m\u001b[0;34m(\u001b[0m\u001b[0mhighlight_chunk\u001b[0m\u001b[0;34m(\u001b[0m\u001b[0mchunks\u001b[0m\u001b[0;34m[\u001b[0m\u001b[0midx\u001b[0m\u001b[0;34m]\u001b[0m\u001b[0;34m,\u001b[0m \u001b[0mparser\u001b[0m\u001b[0;34m)\u001b[0m\u001b[0;34m)\u001b[0m\u001b[0;34m\u001b[0m\u001b[0m\n\u001b[0m",
      "\u001b[0;31mNameError\u001b[0m: name 'chunks' is not defined"
     ]
    }
   ],
   "source": [
    "HTML(highlight_chunk(chunks[idx], parser))\n"
   ]
  },
  {
   "cell_type": "code",
   "execution_count": 24,
   "metadata": {},
   "outputs": [
    {
     "ename": "NameError",
     "evalue": "name 'chunks' is not defined",
     "output_type": "error",
     "traceback": [
      "\u001b[0;31m---------------------------------------------------------------------------\u001b[0m",
      "\u001b[0;31mNameError\u001b[0m                                 Traceback (most recent call last)",
      "\u001b[0;32m<ipython-input-24-aecd162e837f>\u001b[0m in \u001b[0;36m<module>\u001b[0;34m()\u001b[0m\n\u001b[0;32m----> 1\u001b[0;31m \u001b[0mserious_analysis\u001b[0m\u001b[0;34m(\u001b[0m\u001b[0mchunks\u001b[0m\u001b[0;34m[\u001b[0m\u001b[0midx\u001b[0m\u001b[0;34m]\u001b[0m\u001b[0;34m,\u001b[0m \u001b[0mparser\u001b[0m\u001b[0;34m)\u001b[0m\u001b[0;34m\u001b[0m\u001b[0m\n\u001b[0m",
      "\u001b[0;31mNameError\u001b[0m: name 'chunks' is not defined"
     ]
    }
   ],
   "source": [
    "serious_analysis(chunks[idx], parser)"
   ]
  },
  {
   "cell_type": "code",
   "execution_count": 25,
   "metadata": {},
   "outputs": [
    {
     "ename": "NameError",
     "evalue": "name 'chunks' is not defined",
     "output_type": "error",
     "traceback": [
      "\u001b[0;31m---------------------------------------------------------------------------\u001b[0m",
      "\u001b[0;31mNameError\u001b[0m                                 Traceback (most recent call last)",
      "\u001b[0;32m<ipython-input-25-ee7363989222>\u001b[0m in \u001b[0;36m<module>\u001b[0;34m()\u001b[0m\n\u001b[0;32m----> 1\u001b[0;31m \u001b[0mhighlight_chunk\u001b[0m\u001b[0;34m(\u001b[0m\u001b[0mchunks\u001b[0m\u001b[0;34m[\u001b[0m\u001b[0;36m2\u001b[0m\u001b[0;34m]\u001b[0m\u001b[0;34m,\u001b[0m \u001b[0mparser\u001b[0m\u001b[0;34m)\u001b[0m\u001b[0;34m\u001b[0m\u001b[0m\n\u001b[0m",
      "\u001b[0;31mNameError\u001b[0m: name 'chunks' is not defined"
     ]
    }
   ],
   "source": [
    "highlight_chunk(chunks[2], parser)"
   ]
  },
  {
   "cell_type": "code",
   "execution_count": 26,
   "metadata": {},
   "outputs": [],
   "source": [
    "\n",
    "from spacy import displacy\n",
    "def display_parse(text, parser):\n",
    "    doc = parser(text)\n",
    "    return displacy.render(doc, style='dep')"
   ]
  },
  {
   "cell_type": "code",
   "execution_count": 27,
   "metadata": {
    "scrolled": false
   },
   "outputs": [
    {
     "ename": "NameError",
     "evalue": "name 'chunks' is not defined",
     "output_type": "error",
     "traceback": [
      "\u001b[0;31m---------------------------------------------------------------------------\u001b[0m",
      "\u001b[0;31mNameError\u001b[0m                                 Traceback (most recent call last)",
      "\u001b[0;32m<ipython-input-27-1637052bd772>\u001b[0m in \u001b[0;36m<module>\u001b[0;34m()\u001b[0m\n\u001b[0;32m----> 1\u001b[0;31m \u001b[0mHTML\u001b[0m\u001b[0;34m(\u001b[0m\u001b[0mdisplacy\u001b[0m\u001b[0;34m.\u001b[0m\u001b[0mrender\u001b[0m\u001b[0;34m(\u001b[0m\u001b[0mparser\u001b[0m\u001b[0;34m(\u001b[0m\u001b[0mchunks\u001b[0m\u001b[0;34m[\u001b[0m\u001b[0;36m5\u001b[0m\u001b[0;34m]\u001b[0m\u001b[0;34m)\u001b[0m\u001b[0;34m,\u001b[0m \u001b[0mstyle\u001b[0m\u001b[0;34m=\u001b[0m\u001b[0;34m'dep'\u001b[0m\u001b[0;34m)\u001b[0m\u001b[0;34m)\u001b[0m\u001b[0;34m\u001b[0m\u001b[0m\n\u001b[0m",
      "\u001b[0;31mNameError\u001b[0m: name 'chunks' is not defined"
     ]
    }
   ],
   "source": [
    "HTML(displacy.render(parser(chunks[5]), style='dep'))"
   ]
  },
  {
   "cell_type": "code",
   "execution_count": 28,
   "metadata": {},
   "outputs": [],
   "source": [
    "chunk = \"A remarkable aspect of your mental life is that you are rarely stumped … The normal state of your mind is that you have intuitive feelings and opinions about almost everything that comes your way. You like or dislike people long before you know much about them; you trust or distrust strangers without knowing why; you feel that an enterprise is bound to succeed without analyzing it.\""
   ]
  },
  {
   "cell_type": "code",
   "execution_count": 29,
   "metadata": {},
   "outputs": [
    {
     "data": {
      "text/html": [
       "<font color=\"#444444\">A </font><font color=\"#444444\">remarkable </font><font color=\"#0000ff\">aspect </font><font color=\"#444444\">of </font><font color=\"#444444\">your </font><font color=\"#444444\">mental </font><font color=\"#33aa11\">life </font><font color=\"#ff0000\">is </font><font color=\"#444444\">that </font><font color=\"#0000ff\">you </font><font color=\"#ff0000\">are </font><font color=\"#444444\">rarely </font><font color=\"#ff0000\">stumped </font><font color=\"#ff0000\">… </font><font color=\"#444444\">The </font><font color=\"#444444\">normal </font><font color=\"#0000ff\">state </font><font color=\"#444444\">of </font><font color=\"#444444\">your </font><font color=\"#33aa11\">mind </font><font color=\"#ff0000\">is </font><font color=\"#444444\">that </font><font color=\"#0000ff\">you </font><font color=\"#ff0000\">have </font><font color=\"#444444\">intuitive </font><font color=\"#33aa11\">feelings </font><font color=\"#444444\">and </font><font color=\"#444444\">opinions </font><font color=\"#444444\">about </font><font color=\"#444444\">almost </font><font color=\"#33aa11\">everything </font><font color=\"#0000ff\">that </font><font color=\"#ff0000\">comes </font><font color=\"#444444\">your </font><font color=\"#444444\">way</font><font color=\"#444444\">. </font><font color=\"#0000ff\">You </font><font color=\"#ff0000\">like </font><font color=\"#444444\">or </font><font color=\"#ff0000\">dislike </font><font color=\"#33aa11\">people </font><font color=\"#444444\">long </font><font color=\"#444444\">before </font><font color=\"#0000ff\">you </font><font color=\"#ff0000\">know </font><font color=\"#33aa11\">much </font><font color=\"#444444\">about </font><font color=\"#33aa11\">them</font><font color=\"#444444\">; </font><font color=\"#0000ff\">you </font><font color=\"#ff0000\">trust </font><font color=\"#444444\">or </font><font color=\"#444444\">distrust </font><font color=\"#33aa11\">strangers </font><font color=\"#444444\">without </font><font color=\"#ff0000\">knowing </font><font color=\"#444444\">why</font><font color=\"#444444\">; </font><font color=\"#0000ff\">you </font><font color=\"#ff0000\">feel </font><font color=\"#444444\">that </font><font color=\"#444444\">an </font><font color=\"#0000ff\">enterprise </font><font color=\"#ff0000\">is </font><font color=\"#ff0000\">bound </font><font color=\"#444444\">to </font><font color=\"#ff0000\">succeed </font><font color=\"#444444\">without </font><font color=\"#ff0000\">analyzing </font><font color=\"#33aa11\">it</font><font color=\"#444444\">.</font>"
      ],
      "text/plain": [
       "<IPython.core.display.HTML object>"
      ]
     },
     "execution_count": 29,
     "metadata": {},
     "output_type": "execute_result"
    }
   ],
   "source": [
    "HTML(highlight_chunk(chunk, parser))\n"
   ]
  },
  {
   "cell_type": "code",
   "execution_count": 30,
   "metadata": {},
   "outputs": [
    {
     "data": {
      "text/html": [
       "<style>p {width: 420px; white-space: break-word; overflow: hidden; text-overflow: ellipsis; } </style> <p>A remarkable aspect of your mental life is that you are rarely stumped … The normal state of your mind is that you have intuitive feelings and opinions about almost everything that comes your way. You like or dislike people long before you know much about them; you trust or distrust strangers without knowing why; you feel that an enterprise is bound to succeed without analyzing it.</p>"
      ],
      "text/plain": [
       "<IPython.core.display.HTML object>"
      ]
     },
     "execution_count": 30,
     "metadata": {},
     "output_type": "execute_result"
    }
   ],
   "source": [
    "HTML(format_chunk(chunk))"
   ]
  },
  {
   "cell_type": "code",
   "execution_count": null,
   "metadata": {},
   "outputs": [],
   "source": []
  },
  {
   "cell_type": "code",
   "execution_count": null,
   "metadata": {},
   "outputs": [
    {
     "name": "stderr",
     "output_type": "stream",
     "text": [
      " * Running on http://0.0.0.0:5000/ (Press CTRL+C to quit)\n",
      "127.0.0.1 - - [05/Apr/2018 16:39:12] \"\u001b[37mPOST /step2 HTTP/1.1\u001b[0m\" 200 -\n"
     ]
    },
    {
     "name": "stdout",
     "output_type": "stream",
     "text": [
      "<font color=\"#ff0000\">Drone </font><font color=\"#444444\">Nearly </font><font color=\"#33aa11\">Collides </font><font color=\"#444444\">with </font><font color=\"#444444\">Passenger </font><font color=\"#33aa11\">Jet </font><font color=\"#444444\">Near </font><font color=\"#444444\">Las </font><font color=\"#ff0000\">Vegas</font><font color=\"#444444\">\r\n",
      "</font><font color=\"#ff0000\">By </font><font color=\"#444444\">Rafi </font><font color=\"#33aa11\">Letzter</font><font color=\"#444444\">, </font><font color=\"#444444\">Staff </font><font color=\"#444444\">Writer </font><font color=\"#444444\">| </font><font color=\"#33aa11\">February </font><font color=\"#444444\">5</font><font color=\"#444444\">, </font><font color=\"#444444\">2018 </font><font color=\"#ff0000\">01:37pm </font><font color=\"#444444\">ET</font><font color=\"#444444\">\r\n",
      "\r\n",
      "\r\n",
      "        \r\n",
      "        \r\n",
      "        \r\n",
      "    </font><font color=\"#ff0000\">MORE </font><font color=\"#444444\">\r\n",
      "\r\n",
      "</font><font color=\"#444444\">A </font><font color=\"#2255dd\">drone </font><font color=\"#0000ff\">pilot </font><font color=\"#ff0000\">appears </font><font color=\"#444444\">to </font><font color=\"#ff0000\">have </font><font color=\"#ff0000\">flown </font><font color=\"#444444\">an </font><font color=\"#444444\">unmanned </font><font color=\"#444444\">aerial </font><font color=\"#33aa11\">vehicle </font><font color=\"#444444\">(</font><font color=\"#444444\">UAV</font><font color=\"#444444\">) </font><font color=\"#444444\">into </font><font color=\"#444444\">the </font><font color=\"#33aa11\">path </font><font color=\"#444444\">of </font><font color=\"#444444\">a </font><font color=\"#444444\">passenger </font><font color=\"#33aa11\">jet</font><font color=\"#444444\">.</font><font color=\"#444444\">\r\n",
      "\r\n",
      "</font><font color=\"#0000ff\">Video </font><font color=\"#444444\">of </font><font color=\"#444444\">the </font><font color=\"#33aa11\">incident </font><font color=\"#444444\">first </font><font color=\"#ff0000\">appeared </font><font color=\"#444444\">in </font><font color=\"#444444\">a </font><font color=\"#444444\">Facebook </font><font color=\"#33aa11\">group </font><font color=\"#ff0000\">called </font><font color=\"#444444\">1</font><font color=\"#444444\">% </font><font color=\"#444444\">FPV</font><font color=\"#444444\">, </font><font color=\"#ff0000\">posted </font><font color=\"#444444\">by </font><font color=\"#444444\">a </font><font color=\"#33aa11\">user </font><font color=\"#ff0000\">called </font><font color=\"#444444\">\"</font><font color=\"#444444\">James </font><font color=\"#444444\">Jayo </font><font color=\"#444444\">Older</font><font color=\"#444444\">,</font><font color=\"#444444\">\" </font><font color=\"#ff0000\">according </font><font color=\"#444444\">to </font><font color=\"#33aa11\">PetaPixel</font><font color=\"#444444\">. </font><font color=\"#444444\">The </font><font color=\"#2255dd\">photography </font><font color=\"#0000ff\">website </font><font color=\"#ff0000\">reports </font><font color=\"#444444\">that </font><font color=\"#444444\">the </font><font color=\"#0000ff\">video </font><font color=\"#ff0000\">was </font><font color=\"#ff0000\">captioned </font><font color=\"#444444\">\"</font><font color=\"#ff0000\">Found </font><font color=\"#444444\">the </font><font color=\"#444444\">SD </font><font color=\"#33aa11\">card</font><font color=\"#444444\">.. </font><font color=\"#ff0000\">1%ers </font><font color=\"#444444\">only</font><font color=\"#444444\">.</font><font color=\"#444444\">\"</font><font color=\"#444444\">\r\n",
      "\r\n",
      "</font><font color=\"#444444\">The </font><font color=\"#444444\">short </font><font color=\"#0000ff\">video</font><font color=\"#444444\">, </font><font color=\"#ff0000\">shot </font><font color=\"#444444\">from </font><font color=\"#444444\">the </font><font color=\"#33aa11\">perspective </font><font color=\"#444444\">of </font><font color=\"#444444\">the </font><font color=\"#33aa11\">drone </font><font color=\"#444444\">in </font><font color=\"#33aa11\">question</font><font color=\"#444444\">, </font><font color=\"#ff0000\">begins </font><font color=\"#444444\">with </font><font color=\"#444444\">a </font><font color=\"#33aa11\">view </font><font color=\"#444444\">of </font><font color=\"#444444\">the </font><font color=\"#33aa11\">landscape </font><font color=\"#ff0000\">surrounding </font><font color=\"#444444\">McCarran </font><font color=\"#444444\">International </font><font color=\"#33aa11\">Airport </font><font color=\"#444444\">in </font><font color=\"#444444\">Las </font><font color=\"#33aa11\">Vegas</font><font color=\"#444444\">. </font><font color=\"#444444\">Then </font><font color=\"#444444\">the </font><font color=\"#0000ff\">camera </font><font color=\"#ff0000\">twists </font><font color=\"#444444\">and </font><font color=\"#444444\">tips </font><font color=\"#444444\">downward </font><font color=\"#ff0000\">revealing </font><font color=\"#444444\">a </font><font color=\"#444444\">Frontier </font><font color=\"#444444\">Airlines </font><font color=\"#444444\">passenger </font><font color=\"#33aa11\">plane </font><font color=\"#444444\">rapidly </font><font color=\"#ff0000\">approaching</font><font color=\"#444444\">. </font><font color=\"#444444\">The </font><font color=\"#0000ff\">UAV </font><font color=\"#444444\">then </font><font color=\"#ff0000\">dives </font><font color=\"#444444\">toward </font><font color=\"#444444\">the </font><font color=\"#33aa11\">plane</font><font color=\"#444444\">, </font><font color=\"#0000ff\">which </font><font color=\"#ff0000\">swells </font><font color=\"#444444\">to </font><font color=\"#444444\">briefly </font><font color=\"#ff0000\">fill </font><font color=\"#444444\">the </font><font color=\"#33aa11\">field </font><font color=\"#444444\">of </font><font color=\"#33aa11\">view </font><font color=\"#444444\">before </font><font color=\"#ff0000\">passing </font><font color=\"#444444\">narrowly </font><font color=\"#444444\">below</font><font color=\"#444444\">. </font><font color=\"#0000ff\">It</font><font color=\"#ff0000\">'s </font><font color=\"#444444\">unclear </font><font color=\"#444444\">from </font><font color=\"#444444\">the </font><font color=\"#33aa11\">video </font><font color=\"#444444\">just </font><font color=\"#444444\">how </font><font color=\"#444444\">close </font><font color=\"#444444\">the </font><font color=\"#0000ff\">drone </font><font color=\"#ff0000\">came </font><font color=\"#444444\">to </font><font color=\"#444444\">the </font><font color=\"#33aa11\">jet</font><font color=\"#444444\">.</font><font color=\"#444444\">\r\n",
      "\r\n",
      "</font><font color=\"#2255dd\">Drone </font><font color=\"#0000ff\">pilots </font><font color=\"#444444\">and </font><font color=\"#444444\">enthusiasts </font><font color=\"#444444\">quickly </font><font color=\"#ff0000\">shared </font><font color=\"#444444\">and </font><font color=\"#ff0000\">condemned </font><font color=\"#444444\">the </font><font color=\"#33aa11\">video </font><font color=\"#444444\">outside </font><font color=\"#444444\">the </font><font color=\"#33aa11\">group</font><font color=\"#444444\">.</font><font color=\"#444444\">\r\n",
      "\r\n",
      "</font><font color=\"#2255dd\">Richard </font><font color=\"#0000ff\">Gilmore</font><font color=\"#444444\">, </font><font color=\"#444444\">a </font><font color=\"#444444\">YouTube </font><font color=\"#444444\">user </font><font color=\"#0000ff\">who </font><font color=\"#444444\">routinely </font><font color=\"#ff0000\">posts </font><font color=\"#444444\">his </font><font color=\"#444444\">own </font><font color=\"#444444\">drone </font><font color=\"#33aa11\">footage </font><font color=\"#444444\">to </font><font color=\"#444444\">his </font><font color=\"#33aa11\">channel </font><font color=\"#ff0000\">shared </font><font color=\"#444444\">the </font><font color=\"#33aa11\">video</font><font color=\"#444444\">, </font><font color=\"#444444\">writing</font><font color=\"#444444\">, </font><font color=\"#444444\">\"</font><font color=\"#444444\">An </font><font color=\"#2255dd\">FPV </font><font color=\"#2255dd\">quad </font><font color=\"#0000ff\">racer </font><font color=\"#444444\">flies </font><font color=\"#444444\">in </font><font color=\"#444444\">the </font><font color=\"#33aa11\">Path </font><font color=\"#444444\">of </font><font color=\"#444444\">[</font><font color=\"#444444\">an</font><font color=\"#444444\">] </font><font color=\"#33aa11\">Airliner</font><font color=\"#444444\">. </font><font color=\"#444444\"> </font><font color=\"#444444\">What </font><font color=\"#444444\">a </font><font color=\"#ff0000\">knob</font><font color=\"#444444\">. </font><font color=\"#444444\"> </font><font color=\"#ff0000\">Seriously</font><font color=\"#444444\">. </font><font color=\"#444444\"> </font><font color=\"#0000ff\">This </font><font color=\"#ff0000\">is </font><font color=\"#ff0000\">not </font><font color=\"#444444\">a </font><font color=\"#444444\">joke</font><font color=\"#444444\">. </font><font color=\"#444444\"> </font><font color=\"#ff0000\">Not </font><font color=\"#444444\">CGI</font><font color=\"#444444\">, </font><font color=\"#0000ff\">this </font><font color=\"#ff0000\">is </font><font color=\"#444444\">real</font><font color=\"#444444\">. </font><font color=\"#444444\"> </font><font color=\"#ff0000\">For </font><font color=\"#444444\">a </font><font color=\"#444444\">10 </font><font color=\"#444444\">second </font><font color=\"#33aa11\">moment </font><font color=\"#444444\">of </font><font color=\"#33aa11\">fame</font><font color=\"#444444\">. </font><font color=\"#444444\">Even </font><font color=\"#444444\">if </font><font color=\"#444444\">there </font><font color=\"#ff0000\">would </font><font color=\"#ff0000\">be </font><font color=\"#444444\">no </font><font color=\"#444444\">harm</font><font color=\"#444444\">. </font><font color=\"#0000ff\">You </font><font color=\"#444444\">just </font><font color=\"#ff0000\">ca</font><font color=\"#ff0000\">n't </font><font color=\"#ff0000\">get </font><font color=\"#444444\">over </font><font color=\"#444444\">this </font><font color=\"#33aa11\">level </font><font color=\"#444444\">of </font><font color=\"#444444\">stupidly</font><font color=\"#444444\">\r\n",
      "\r\n",
      "</font><font color=\"#444444\">Online </font><font color=\"#33aa11\">publication </font><font color=\"#444444\">for </font><font color=\"#444444\">the </font><font color=\"#444444\">airline </font><font color=\"#33aa11\">indasdasdasustry</font><font color=\"#444444\">, </font><font color=\"#444444\">Air </font><font color=\"#444444\">Transport </font><font color=\"#444444\">World</font><font color=\"#444444\">, </font><font color=\"#ff0000\">reported </font><font color=\"#444444\">on </font><font color=\"#444444\">the </font><font color=\"#33aa11\">video</font><font color=\"#444444\">, </font><font color=\"#444444\">writing</font><font color=\"#444444\">, </font><font color=\"#444444\">\"</font><font color=\"#444444\">By </font><font color=\"#444444\">all </font><font color=\"#33aa11\">appearances</font><font color=\"#444444\">, </font><font color=\"#0000ff\">this </font><font color=\"#ff0000\">is </font><font color=\"#444444\">clearly </font><font color=\"#444444\">and </font><font color=\"#444444\">explicitly </font><font color=\"#444444\">an </font><font color=\"#444444\">illegal </font><font color=\"#444444\">and </font><font color=\"#444444\">reckless </font><font color=\"#444444\">flight </font><font color=\"#444444\">by </font><font color=\"#444444\">a </font><font color=\"#33aa11\">drone</font><font color=\"#444444\">. </font><font color=\"#444444\">The </font><font color=\"#444444\">unmanned </font><font color=\"#0000ff\">aircraft </font><font color=\"#ff0000\">is </font><font color=\"#444444\">above </font><font color=\"#444444\">400 </font><font color=\"#33aa11\">ft</font><font color=\"#444444\">.</font><font color=\"#444444\">, </font><font color=\"#0000ff\">it </font><font color=\"#ff0000\">is </font><font color=\"#444444\">near </font><font color=\"#444444\">an </font><font color=\"#33aa11\">airport</font><font color=\"#444444\">, </font><font color=\"#444444\">and </font><font color=\"#0000ff\">it </font><font color=\"#ff0000\">is </font><font color=\"#444444\">above </font><font color=\"#33aa11\">another</font><font color=\"#444444\">, </font><font color=\"#444444\">manned </font><font color=\"#444444\">aircraft </font><font color=\"#444444\">— </font><font color=\"#444444\">all </font><font color=\"#444444\">gross </font><font color=\"#ff0000\">violations </font><font color=\"#444444\">of </font><font color=\"#444444\">the </font><font color=\"#33aa11\">rules </font><font color=\"#0000ff\">that </font><font color=\"#ff0000\">govern </font><font color=\"#444444\">unmanned </font><font color=\"#33aa11\">aviation</font><font color=\"#444444\">.</font><font color=\"#444444\">\"</font><font color=\"#444444\">\r\n",
      "\r\n",
      "</font><font color=\"#444444\">The </font><font color=\"#2255dd\">Federal </font><font color=\"#444444\">Aviation </font><font color=\"#0000ff\">Administration </font><font color=\"#444444\">(</font><font color=\"#444444\">FAA</font><font color=\"#444444\">) </font><font color=\"#ff0000\">limits </font><font color=\"#444444\">private </font><font color=\"#444444\">drone </font><font color=\"#33aa11\">operators </font><font color=\"#444444\">to </font><font color=\"#444444\">a </font><font color=\"#33aa11\">height </font><font color=\"#444444\">of </font><font color=\"#444444\">400 </font><font color=\"#33aa11\">feet </font><font color=\"#444444\">(</font><font color=\"#444444\">122 </font><font color=\"#444444\">meters</font><font color=\"#444444\">)</font><font color=\"#444444\">.</font><font color=\"#444444\">\r\n",
      "\r\n",
      "</font><font color=\"#444444\">Air </font><font color=\"#2255dd\">Transport </font><font color=\"#0000ff\">World </font><font color=\"#ff0000\">noted </font><font color=\"#444444\">that </font><font color=\"#444444\">several </font><font color=\"#2255dd\">drone </font><font color=\"#2255dd\">indsustry </font><font color=\"#0000ff\">grodups </font><font color=\"#ff0000\">have </font><font color=\"#ff0000\">condasexzmned </font><font color=\"#444444\">the </font><font color=\"#33aa11\">pilot</font><font color=\"#444444\">, </font><font color=\"#444444\">and </font><font color=\"#444444\">that </font><font color=\"#444444\">the </font><font color=\"#0000ff\">FAA </font><font color=\"#ff0000\">has </font><font color=\"#ff0000\">said </font><font color=\"#0000ff\">it</font><font color=\"#ff0000\">'s </font><font color=\"#444444\">aware </font><font color=\"#444444\">of </font><font color=\"#444444\">the </font><font color=\"#33aa11\">incident </font><font color=\"#444444\">and </font><font color=\"#ff0000\">investigating</font><font color=\"#444444\">.</font>\n"
     ]
    },
    {
     "name": "stderr",
     "output_type": "stream",
     "text": [
      "127.0.0.1 - - [05/Apr/2018 16:39:18] \"\u001b[37mPOST /step3 HTTP/1.1\u001b[0m\" 200 -\n"
     ]
    },
    {
     "name": "stdout",
     "output_type": "stream",
     "text": [
      "ImmutableMultiDict([('formatted_text', '\\r\\n\\t\\t\\t\\t\\t\\t'), ('article_id', ''), ('email', ''), ('time_spent', 'NaN seconds')])\n"
     ]
    }
   ],
   "source": [
    "from flask import Flask, render_template, request, jsonify\n",
    "from jinja2 import Template\n",
    "from jinja2 import evalcontextfilter, Markup, escape\n",
    "import re\n",
    "\n",
    "app = Flask(__name__)\n",
    "\n",
    "@app.template_filter()\n",
    "@evalcontextfilter\n",
    "def nl2br(eval_ctx, value):\n",
    "   _paragraph_re = re.compile(r'(?:\\r\\n|\\r(?!\\n)|\\n){2,}')\n",
    "   result = u'\\n\\n'.join(u'<p>%s</p>' % p.replace(u'\\r\\n', u'<br/>') for p in _paragraph_re.split(value))\n",
    "   if eval_ctx.autoescape:\n",
    "       result = Markup(result)\n",
    "   return result\n",
    "\n",
    "@app.route(\"/\")\n",
    "def one():\n",
    "    return render_template('index.html')\n",
    "\n",
    "@app.route('/step2', methods=['POST'])\n",
    "def two():\n",
    "    formatted_text = highlight_chunk(request.form['text-content'], parser) \n",
    "    #formatted_text = formatted_text.replace('<p>', '<p class=\"formatted-text text-center \">')\n",
    "    HTML(formatted_text)\n",
    "    print (formatted_text)\n",
    "\n",
    "    return render_template('step2.html', formatted_text = formatted_text, \n",
    "                                         email = request.form['email'])\n",
    "\n",
    "@app.route('/step3', methods=['POST'])\n",
    "def three():\n",
    "    print (request.form)\n",
    "    return render_template('step3.html', this_WPM = 111,\n",
    "                          articles = [\n",
    "                              {'date':'01/01/2018', 'n_words':500, 'speed':111},\n",
    "                              {'date':'02/01/2018', 'n_words':600, 'speed':112},\n",
    "                              {'date':'03/01/2018', 'n_words':700, 'speed':113},\n",
    "                              {'date':'04/01/2018', 'n_words':800, 'speed':114},\n",
    "                            \n",
    "                           ]\n",
    "                          )\n",
    "\n",
    "\n",
    "app.host='0.0.0.0'\n",
    "app.use_reloader = False\n",
    "app.debug = False\n",
    "app.run(host='0.0.0.0')\n",
    "\n"
   ]
  },
  {
   "cell_type": "code",
   "execution_count": null,
   "metadata": {},
   "outputs": [],
   "source": []
  },
  {
   "cell_type": "code",
   "execution_count": null,
   "metadata": {},
   "outputs": [],
   "source": []
  },
  {
   "cell_type": "code",
   "execution_count": null,
   "metadata": {},
   "outputs": [],
   "source": []
  },
  {
   "cell_type": "code",
   "execution_count": null,
   "metadata": {},
   "outputs": [],
   "source": []
  },
  {
   "cell_type": "code",
   "execution_count": null,
   "metadata": {},
   "outputs": [],
   "source": []
  },
  {
   "cell_type": "code",
   "execution_count": null,
   "metadata": {},
   "outputs": [],
   "source": []
  },
  {
   "cell_type": "code",
   "execution_count": null,
   "metadata": {},
   "outputs": [],
   "source": []
  }
 ],
 "metadata": {
  "kernelspec": {
   "display_name": "Python 3",
   "language": "python",
   "name": "python3"
  },
  "language_info": {
   "codemirror_mode": {
    "name": "ipython",
    "version": 3
   },
   "file_extension": ".py",
   "mimetype": "text/x-python",
   "name": "python",
   "nbconvert_exporter": "python",
   "pygments_lexer": "ipython3",
   "version": "3.4.3"
  }
 },
 "nbformat": 4,
 "nbformat_minor": 2
}
